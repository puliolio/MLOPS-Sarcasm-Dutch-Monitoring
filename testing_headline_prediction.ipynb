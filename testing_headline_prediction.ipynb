{
 "cells": [
  {
   "cell_type": "code",
   "execution_count": 1,
   "id": "e5aa0792",
   "metadata": {},
   "outputs": [],
   "source": [
    "import requests\n",
    "import pandas as pd\n",
    "import tensorflow as tf\n",
    "import json\n",
    "import base64"
   ]
  },
  {
   "cell_type": "code",
   "execution_count": 2,
   "id": "99873b67",
   "metadata": {},
   "outputs": [
    {
     "name": "stdout",
     "output_type": "stream",
     "text": [
      "Raw response content: {\n",
      " \"model_version_status\": [\n",
      "  {\n",
      "   \"version\": \"1727922330\",\n",
      "   \"state\": \"AVAILABLE\",\n",
      "   \"status\": {\n",
      "    \"error_code\": \"OK\",\n",
      "    \"error_message\": \"\"\n",
      "   }\n",
      "  }\n",
      " ]\n",
      "}\n",
      "\n",
      "{'model_version_status': [{'state': 'AVAILABLE',\n",
      "                           'status': {'error_code': 'OK', 'error_message': ''},\n",
      "                           'version': '1727922330'}]}\n"
     ]
    }
   ],
   "source": [
    "import requests\n",
    "from pprint import PrettyPrinter\n",
    "\n",
    "pp = PrettyPrinter()\n",
    "\n",
    "response = requests.get(\"http://localhost:8080/v1/models/deutch-sarcastic-detection-model\")\n",
    "\n",
    "\n",
    "print(\"Raw response content:\", response.text)\n",
    "\n",
    "try:\n",
    "    json_response = response.json()\n",
    "    pp.pprint(json_response)\n",
    "except requests.exceptions.JSONDecodeError:\n",
    "    print(\"Response is not valid JSON\")"
   ]
  },
  {
   "cell_type": "code",
   "execution_count": 3,
   "id": "1ab65c1e",
   "metadata": {},
   "outputs": [],
   "source": [
    "df = pd.read_csv('headlines_dataset.csv')"
   ]
  },
  {
   "cell_type": "code",
   "execution_count": 4,
   "id": "6cc526a0",
   "metadata": {},
   "outputs": [],
   "source": [
    "test_data = df[\"headline\"][10:15]"
   ]
  },
  {
   "cell_type": "code",
   "execution_count": 10,
   "id": "d9bf02d9",
   "metadata": {},
   "outputs": [
    {
     "name": "stdout",
     "output_type": "stream",
     "text": [
      "Not Sarcastic\n",
      "Not Sarcastic\n",
      "Not Sarcastic\n",
      "Not Sarcastic\n",
      "Not Sarcastic\n"
     ]
    }
   ],
   "source": [
    "def prepare_json(sms):\n",
    "    feature_spec = {\n",
    "        \"headline\": tf.train.Feature(bytes_list=tf.train.BytesList(value=[bytes(sms, \"utf-8\")])),\n",
    "    }\n",
    "    \n",
    "    example = tf.train.Example(\n",
    "        features=tf.train.Features(feature=feature_spec)\n",
    "    ).SerializeToString()\n",
    "    \n",
    "    result = [\n",
    "        {\n",
    "            \"examples\": {\n",
    "                \"b64\": base64.b64encode(example).decode()\n",
    "            }\n",
    "        }\n",
    "    ]\n",
    "    \n",
    "    return json.dumps({\n",
    "        \"signature_name\": \"serving_default\",\n",
    "        \"instances\": result\n",
    "    })\n",
    "\n",
    "endpoint = \"http://localhost:8080/v1/models/deutch-sarcastic-detection-model:predict\"\n",
    "\n",
    "for text in test_data:\n",
    "    json_data = prepare_json(text)\n",
    "    response = requests.post(endpoint, data=json_data)\n",
    "    prediction = response.json()\n",
    "    if prediction:\n",
    "        prediction_value = prediction['predictions'][0][0]\n",
    "        result = \"Sarcastic\" if prediction_value > 0.5 else \"Not Sarcastic\"\n",
    "    else:\n",
    "        result = \"Error: No predictions found in response.\"\n",
    "\n",
    "    print(result)"
   ]
  },
  {
   "cell_type": "code",
   "execution_count": null,
   "id": "13dda5ee",
   "metadata": {},
   "outputs": [],
   "source": []
  }
 ],
 "metadata": {
  "kernelspec": {
   "display_name": "Python 3 (ipykernel)",
   "language": "python",
   "name": "python3"
  },
  "language_info": {
   "codemirror_mode": {
    "name": "ipython",
    "version": 3
   },
   "file_extension": ".py",
   "mimetype": "text/x-python",
   "name": "python",
   "nbconvert_exporter": "python",
   "pygments_lexer": "ipython3",
   "version": "3.10.13"
  }
 },
 "nbformat": 4,
 "nbformat_minor": 5
}
